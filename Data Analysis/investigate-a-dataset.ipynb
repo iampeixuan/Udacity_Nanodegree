{
 "cells": [
  {
   "cell_type": "markdown",
   "metadata": {},
   "source": [
    "**Deep Learning Foundation Nanodegree Program** -- Investigate a Dataset\n",
    "\n",
    "#  TMDb Dataset Investigation\n",
    "\n",
    "## Table of Contents\n",
    "<ul>\n",
    "<li><a href=\"#intro\">Introduction</a></li>\n",
    "<li><a href=\"#wrangling\">Data Wrangling</a></li>\n",
    "<li><a href=\"#eda\">Exploratory Data Analysis</a></li>\n",
    "<li><a href=\"#conclusions\">Conclusions</a></li>\n",
    "</ul>"
   ]
  },
  {
   "cell_type": "markdown",
   "metadata": {},
   "source": [
    "<a id='intro'></a>\n",
    "## Introduction\n",
    "\n",
    "* The dataset \"tmdb-movies.csv\" is taken from Udacity Investigate a Dataset project, cleaned from original data on Kaggle. This data set contains information of 10866 movies collected from The Movie Database (TMDb). Two questions are explored in this analysis, including finding out the revenue over years and the popular genres over years, details can be found in \"Exploratory Data Analysis\" section. In the end some conclusions are drawn based on the analysis as a summary. \n",
    "\n",
    "### System and Libraries\n",
    "> Python 3.6\n",
    "\n",
    "> Libraries used: numpy, pandas and matplotlib"
   ]
  },
  {
   "cell_type": "markdown",
   "metadata": {},
   "source": [
    "<a id='wrangling'></a>\n",
    "## Data Wrangling"
   ]
  },
  {
   "cell_type": "markdown",
   "metadata": {},
   "source": [
    "### Import the necessary libraries"
   ]
  },
  {
   "cell_type": "code",
   "execution_count": 95,
   "metadata": {
    "collapsed": true
   },
   "outputs": [],
   "source": [
    "import numpy as np\n",
    "import pandas as pd\n",
    "import matplotlib.pyplot as plt\n",
    "from matplotlib.gridspec import GridSpec\n",
    "\n",
    "# plot the visualizations inline with the notebook\n",
    "%matplotlib inline  "
   ]
  },
  {
   "cell_type": "markdown",
   "metadata": {},
   "source": [
    "### Load data from .csv file"
   ]
  },
  {
   "cell_type": "code",
   "execution_count": 2,
   "metadata": {
    "scrolled": false
   },
   "outputs": [
    {
     "name": "stdout",
     "output_type": "stream",
     "text": [
      "<class 'pandas.core.frame.DataFrame'>\n",
      "RangeIndex: 10866 entries, 0 to 10865\n",
      "Data columns (total 21 columns):\n",
      "id                      10866 non-null int64\n",
      "imdb_id                 10856 non-null object\n",
      "popularity              10866 non-null float64\n",
      "budget                  10866 non-null int64\n",
      "revenue                 10866 non-null int64\n",
      "original_title          10866 non-null object\n",
      "cast                    10790 non-null object\n",
      "homepage                2936 non-null object\n",
      "director                10822 non-null object\n",
      "tagline                 8042 non-null object\n",
      "keywords                9373 non-null object\n",
      "overview                10862 non-null object\n",
      "runtime                 10866 non-null int64\n",
      "genres                  10843 non-null object\n",
      "production_companies    9836 non-null object\n",
      "release_date            10866 non-null object\n",
      "vote_count              10866 non-null int64\n",
      "vote_average            10866 non-null float64\n",
      "release_year            10866 non-null int64\n",
      "budget_adj              10866 non-null float64\n",
      "revenue_adj             10866 non-null float64\n",
      "dtypes: float64(4), int64(6), object(11)\n",
      "memory usage: 1.7+ MB\n"
     ]
    }
   ],
   "source": [
    "# load the data and show some basic info\n",
    "\n",
    "data = pd.read_csv('tmdb-movies.csv')\n",
    "data.info()"
   ]
  },
  {
   "cell_type": "markdown",
   "metadata": {},
   "source": [
    "### Data Cleaning - remove duplicated row"
   ]
  },
  {
   "cell_type": "code",
   "execution_count": 3,
   "metadata": {},
   "outputs": [
    {
     "name": "stdout",
     "output_type": "stream",
     "text": [
      "Number of unique rows: 10865\n"
     ]
    }
   ],
   "source": [
    "# there is one duplicated row, so remove it.\n",
    "\n",
    "data.drop_duplicates(inplace=True)\n",
    "print(\"Number of unique rows: \" + str(data.shape[0]))"
   ]
  },
  {
   "cell_type": "markdown",
   "metadata": {},
   "source": [
    "### Data Cleaning - check empty entry"
   ]
  },
  {
   "cell_type": "code",
   "execution_count": 4,
   "metadata": {},
   "outputs": [
    {
     "name": "stdout",
     "output_type": "stream",
     "text": [
      "10 movies have no imdb_id, the titles are:\n",
      "\n",
      "          id                                   original_title\n",
      "548   355131                       Sense8: Creating the World\n",
      "997   287663             Star Wars Rebels: Spark of Rebellion\n",
      "1528   15257                               Hulk vs. Wolverine\n",
      "1750  101907                                    Hulk vs. Thor\n",
      "2401   45644  Opeth: In Live Concert At The Royal Albert Hall\n",
      "4797  369145                          Doctor Who: The Snowmen\n",
      "4872  269177                                      Party Bercy\n",
      "6071  279954                                 Portal: Survive!\n",
      "7527   50127                              Fallen: The Journey\n",
      "7809   50128                              Fallen: The Destiny\n"
     ]
    }
   ],
   "source": [
    "# list the movies with no \"imdb_id\"\n",
    "# they are not critical to the analysis, so no modification is done.\n",
    "\n",
    "print(str(sum(data[\"imdb_id\"].isnull())) + \" movies have no imdb_id, the titles are:\\n\")\n",
    "print(data[data[\"imdb_id\"].isnull()][[\"id\", \"original_title\"]])"
   ]
  },
  {
   "cell_type": "code",
   "execution_count": 5,
   "metadata": {},
   "outputs": [
    {
     "name": "stdout",
     "output_type": "stream",
     "text": [
      "23 movies have no genres, they are removed from the dataset.\n",
      "Number of rows after operation: 10842\n"
     ]
    }
   ],
   "source": [
    "# remove the movies with no \"genres\"\n",
    "\n",
    "print(str(sum(data[\"genres\"].isnull())) + \" movies have no genres, they are removed from the dataset.\")\n",
    "data.dropna(subset=[\"genres\"], inplace=True)  \n",
    "print(\"Number of rows after operation: \" + str(data.shape[0]))"
   ]
  },
  {
   "cell_type": "markdown",
   "metadata": {},
   "source": [
    "<a id='eda'></a>\n",
    "## Exploratory Data Analysis\n",
    "\n",
    "> Two questions will be explored in this section:\n",
    "\n",
    "> ** Q1:  ** What is the trend of total number of movies and revenue over years?\n",
    "\n",
    "> ** Q2:  ** What genres are prevalent over years?\n",
    "\n",
    "\n",
    "### Number of movies and revenue over years"
   ]
  },
  {
   "cell_type": "code",
   "execution_count": 27,
   "metadata": {},
   "outputs": [
    {
     "data": {
      "image/png": "[encoded data removed]",
      "text/plain": [
       "<matplotlib.figure.Figure at 0x1c55ecced30>"
      ]
     },
     "metadata": {},
     "output_type": "display_data"
    }
   ],
   "source": [
    "# group the movies based on \"release_year\"\n",
    "# sum up the number of movies, the total revenue per year\n",
    "\n",
    "movies_over_year = data.groupby(data[\"release_year\"]).count()\n",
    "rev_over_year = data[\"revenue_adj\"].groupby(data[\"release_year\"]).sum()\n",
    "\n",
    "# generate two plots to see the trend over years\n",
    "f, plots = plt.subplots(2, sharex=True)\n",
    "plots[0].set_title(\"Number of Movies & Revenue over Years\")\n",
    "plots[0].plot(movies_over_year[\"id\"])\n",
    "plots[0].set_ylabel(\"Number of Movies\")\n",
    "plots[1].plot(rev_over_year)\n",
    "plots[1].set_xlabel(\"Year\")\n",
    "plots[1].set_ylabel(\"Revenue\")\n",
    "plt.show()"
   ]
  },
  {
   "cell_type": "markdown",
   "metadata": {},
   "source": [
    "### What are the popular genres (top 5) since 2010?"
   ]
  },
  {
   "cell_type": "code",
   "execution_count": 62,
   "metadata": {},
   "outputs": [],
   "source": [
    "genre_count = []   # array to store the results\n",
    "\n",
    "for year in range(2010,2016):\n",
    "    \n",
    "    # group data yearly\n",
    "    yearly_data = data.loc[data[\"release_year\"] == year]\n",
    "    \n",
    "    # create a dictionary listing out the genres, reset every year\n",
    "    genre_dict = {\"Action\": 0, \"Adventure\": 0, \"Animation\": 0, \"Comedy\": 0, \"Crime\": 0, \n",
    "                  \"Documentary\": 0, \"Drama\": 0, \"Science Fiction\": 0, \"Thriller\": 0, \n",
    "                  \"Fantasy\": 0, \"Western\": 0, \"Family\": 0, \"Foreign\": 0, \"Music\": 0, \n",
    "                  \"Mystery\": 0, \"Romance\": 0, \"War\": 0, \"History\": 0, \"Horror\": 0, \"TV Movie\": 0}\n",
    "    \n",
    "    # count how many time a particular genre occurs, note that one movie can have multiple genres\n",
    "    for genres in yearly_data[\"genres\"]:\n",
    "        for genre in genres.split(\"|\"):\n",
    "            genre_dict[genre] += 1\n",
    "    \n",
    "    # get the top 5 genres and store it\n",
    "    genre_count_yearly = pd.DataFrame(list(genre_dict.items()), columns=[\"Genre\", \"Count\"]).sort_values(by=[\"Count\"], ascending=False).reset_index(drop=True)[:5]\n",
    "    genre_count.append(genre_count_yearly)"
   ]
  },
  {
   "cell_type": "code",
   "execution_count": 117,
   "metadata": {},
   "outputs": [
    {
     "data": {
      "image/png": "[encoded data removed]",
      "text/plain": [
       "<matplotlib.figure.Figure at 0x1c560ec0a20>"
      ]
     },
     "metadata": {},
     "output_type": "display_data"
    }
   ],
   "source": [
    "the_grid = GridSpec(3, 3)\n",
    "\n",
    "# plot a pie chart every year to see the ratio of each genre\n",
    "for i in range(2):\n",
    "    for j in range(3):\n",
    "        plt.subplot(the_grid[i+1, j], aspect=1)\n",
    "        plt.pie(genre_count[i*3+j][\"Count\"], labels=genre_count[i*3+j][\"Genre\"]) \n",
    "        plt.axis('equal')\n",
    "        plt.title(\"Year \"+str(2010+i*3+j))\n",
    "\n",
    "plt.suptitle(\"Top 5 genres 2010-2016\", size=16)\n",
    "plt.tight_layout()\n",
    "plt.show()    "
   ]
  },
  {
   "cell_type": "markdown",
   "metadata": {},
   "source": [
    "<a id='conclusions'></a>\n",
    "## Conclusions\n",
    "\n",
    "> **Q1 Analysis**: It is very clear from the graph that both the number of movies and sum revenue have increasing trend over years. Although there were some fluctuations, generally speaking the movie industry has been booming since the 90s, tripling the number of movies and doubling the revenue within 20 years. As people become more affluent and spend more money on leisure acticities and entertainment, the movies industry grows accordingly.  \n",
    "\n",
    "> **Q2 Analysis**: From the series of pie charts, it is clear that people's taste have not changed much since 2010. The most popular genre was \"Drama\" across these years. \"Comedy\" was mostly the second most popular, but surpassed by \"Thriller\" in the year of 2015. There were also \"Action\", \"Horror\" and \"Romance\" making their way to the Top 5 for certain years. Probably most people watch movies for fun and entertainment, and thus the producers would like to make and publicize their movies to be these genres that are likely to be more viewed and profitable. \n",
    "\n",
    "> *Limitations:* The analysis of genre is very limited, and the definition of \"popularity\" should not only base on the number of occurence, but also the rating and revenue etc. "
   ]
  },
  {
   "cell_type": "code",
   "execution_count": null,
   "metadata": {
    "collapsed": true
   },
   "outputs": [],
   "source": []
  }
 ],
 "metadata": {
  "kernelspec": {
   "display_name": "Python 3",
   "language": "python",
   "name": "python3"
  },
  "language_info": {
   "codemirror_mode": {
    "name": "ipython",
    "version": 3
   },
   "file_extension": ".py",
   "mimetype": "text/x-python",
   "name": "python",
   "nbconvert_exporter": "python",
   "pygments_lexer": "ipython3",
   "version": "3.7.3"
  }
 },
 "nbformat": 4,
 "nbformat_minor": 2
}
